{
 "cells": [
  {
   "cell_type": "markdown",
   "metadata": {},
   "source": [
    "# Module 3: Data Structures Assignments\n",
    "## Lesson 3.4: Dictionaries\n",
    "### Assignment 1: Creating and Accessing Dictionaries\n",
    "\n",
    "Create a dictionary with the first 10 positive integers as keys and their squares as values. Print the dictionary.\n",
    "\n",
    "### Assignment 2: Accessing Dictionary Elements\n",
    "\n",
    "Print the value of the key 5 and the keys of the dictionary created in Assignment 1.\n",
    "\n",
    "### Assignment 3: Dictionary Methods\n",
    "\n",
    "Add a new key-value pair (11, 121) to the dictionary created in Assignment 1 and then remove the key-value pair with key 1. Print the modified dictionary.\n",
    "\n",
    "### Assignment 4: Iterating Over Dictionaries\n",
    "\n",
    "Iterate over the dictionary created in Assignment 1 and print each key-value pair.\n",
    "\n",
    "### Assignment 5: Dictionary Comprehensions\n",
    "\n",
    "Create a new dictionary containing the cubes of the first 10 positive integers using a dictionary comprehension. Print the new dictionary.\n",
    "\n",
    "### Assignment 6: Merging Dictionaries\n",
    "\n",
    "Create two dictionaries: one with keys as the first 5 positive integers and values as their squares, and another with keys as the next 5 positive integers and values as their squares. Merge these dictionaries into a single dictionary and print it.\n",
    "\n",
    "### Assignment 7: Nested Dictionaries\n",
    "\n",
    "Create a nested dictionary representing a student with keys 'name', 'age', 'grades', where 'grades' is another dictionary with keys 'math', 'science', and 'english'. Print the nested dictionary.\n",
    "\n",
    "### Assignment 8: Dictionary of Lists\n",
    "\n",
    "Create a dictionary where the keys are the first 5 positive integers and the values are lists containing the first 5 multiples of the key. Print the dictionary.\n",
    "\n",
    "### Assignment 9: Dictionary of Tuples\n",
    "\n",
    "Create a dictionary where the keys are the first 5 positive integers and the values are tuples containing the key and its square. Print the dictionary.\n",
    "\n",
    "### Assignment 10: Dictionary and List Conversion\n",
    "\n",
    "Create a dictionary with the first 5 positive integers as keys and their squares as values. Convert the dictionary to a list of tuples and print it.\n",
    "\n",
    "### Assignment 11: Dictionary Filtering\n",
    "\n",
    "Create a dictionary with the first 10 positive integers as keys and their squares as values. Create a new dictionary containing only the key-value pairs where the key is even. Print the new dictionary.\n",
    "\n",
    "### Assignment 12: Dictionary Key and Value Transformation\n",
    "\n",
    "Create a dictionary with the first 5 positive integers as keys and their squares as values. Create a new dictionary with keys and values swapped. Print the new dictionary.\n",
    "\n",
    "### Assignment 13: Default Dictionary\n",
    "\n",
    "Create a default dictionary where each key has a default value of an empty list. Add some elements to the lists and print the dictionary.\n",
    "\n",
    "### Assignment 14: Counting with Dictionaries\n",
    "\n",
    "Write a function that takes a string and returns a dictionary with the count of each character in the string. Print the dictionary.\n",
    "\n",
    "### Assignment 15: Dictionary and JSON\n",
    "\n",
    "Create a dictionary representing a book with keys 'title', 'author', 'year', and 'genre'. Convert the dictionary to a JSON string and print it."
   ]
  },
  {
   "cell_type": "code",
   "execution_count": 1,
   "metadata": {},
   "outputs": [
    {
     "name": "stdout",
     "output_type": "stream",
     "text": [
      "{1: 1, 2: 4, 3: 9, 4: 16, 5: 25, 6: 36, 7: 49, 8: 64, 9: 81, 10: 100}\n"
     ]
    }
   ],
   "source": [
    "### Assignment 1: Creating and Accessing Dictionaries\n",
    "\n",
    "#Create a dictionary with the first 10 positive integers as keys and their squares as values. Print the dictionary.\n",
    "squares={x:x**2 for x in range(1,11)}\n",
    "print(squares)\n"
   ]
  },
  {
   "cell_type": "code",
   "execution_count": 3,
   "id": "6a37ee98",
   "metadata": {},
   "outputs": [
    {
     "name": "stdout",
     "output_type": "stream",
     "text": [
      "value of key 5: 25\n",
      "the keys of the dictionary : [1, 2, 3, 4, 5, 6, 7, 8, 9, 10]\n"
     ]
    }
   ],
   "source": [
    "### Assignment 2: Accessing Dictionary Elements\n",
    "\n",
    "#Print the value of the key 5 and the keys of the dictionary created in Assignment 1.\n",
    "print(\"value of key 5:\",squares[5])\n",
    "print(\"the keys of the dictionary :\",list(squares.keys()))\n",
    "\n"
   ]
  },
  {
   "cell_type": "code",
   "execution_count": 5,
   "id": "a7fbd87f",
   "metadata": {},
   "outputs": [
    {
     "name": "stdout",
     "output_type": "stream",
     "text": [
      "{2: 4, 3: 9, 4: 16, 5: 25, 6: 36, 7: 49, 8: 64, 9: 81, 10: 100, 11: 121}\n"
     ]
    }
   ],
   "source": [
    "### Assignment 3: Dictionary Methods\n",
    "\n",
    "#Add a new key-value pair (11, 121) to the dictionary created in Assignment 1 and then remove the key-value pair with key 1.\n",
    "#  Print the modified dictionary.\n",
    "squares[11]=121\n",
    "squares.pop(1)\n",
    "print(squares)\n"
   ]
  },
  {
   "cell_type": "code",
   "execution_count": 7,
   "id": "8401d3dc",
   "metadata": {},
   "outputs": [
    {
     "name": "stdout",
     "output_type": "stream",
     "text": [
      "0 0\n",
      "1 1\n",
      "2 4\n",
      "3 9\n",
      "4 16\n",
      "5 25\n",
      "6 36\n",
      "7 49\n",
      "8 64\n",
      "9 81\n",
      "10 100\n"
     ]
    }
   ],
   "source": [
    "### Assignment 4: Iterating Over Dictionaries\n",
    "\n",
    "#Iterate over the dictionary created in Assignment 1 and print each key-value pair.\n",
    "squares={sq:sq**2 for sq in range(0,11)}\n",
    "for keys,values in squares.items():\n",
    "    print(keys,values)\n",
    "\n",
    "\n"
   ]
  },
  {
   "cell_type": "code",
   "execution_count": null,
   "id": "4a58d5a7",
   "metadata": {},
   "outputs": [
    {
     "name": "stdout",
     "output_type": "stream",
     "text": [
      "{1: 1, 2: 8, 3: 27, 4: 64, 5: 125, 6: 216, 7: 343, 8: 512, 9: 729, 10: 1000}\n"
     ]
    }
   ],
   "source": [
    "### Assignment 5: Dictionary Comprehensions\n",
    "\n",
    "#Create a new dictionary containing the cubes of the first 10 positive integers using a dictionary comprehension. Print the new dictionary.\n",
    "cubes={x:x**3 for x in range(1,11)}\n",
    "print(cubes)\n"
   ]
  },
  {
   "cell_type": "code",
   "execution_count": null,
   "id": "5dcbef0b",
   "metadata": {},
   "outputs": [
    {
     "name": "stdout",
     "output_type": "stream",
     "text": [
      "Merged_dicts: {1: 1, 2: 4, 3: 9, 4: 16, 5: 25, 6: 36, 7: 49, 8: 64, 9: 81, 10: 100}\n"
     ]
    }
   ],
   "source": [
    "### Assignment 6: Merging Dictionaries\n",
    "\n",
    "#Create two dictionaries: one with keys as the first 5 positive integers and values as their squares,\n",
    "# and another with keys as the next 5 positive integers and values as their squares. \n",
    "# Merge these dictionaries into a single dictionary and print it.\n",
    "\n",
    "square1={x:x**2 for x in range(1,6)}\n",
    "square2={x:x**2 for x in range(6,11)}\n",
    "merged={**square1,**square2}\n",
    "print(\"Merged_dicts:\",merged)\n"
   ]
  },
  {
   "cell_type": "code",
   "execution_count": 12,
   "id": "18e62915",
   "metadata": {},
   "outputs": [
    {
     "name": "stdout",
     "output_type": "stream",
     "text": [
      "{'name': 'abc', 'age': 21, 'grades': {'math': 'O', 'science': 'B+', 'english': 'A'}}\n"
     ]
    }
   ],
   "source": [
    "### Assignment 7: Nested Dictionaries\n",
    "\n",
    "#Create a nested dictionary representing a student with keys 'name', 'age', 'grades', \n",
    "#where 'grades' is another dictionary with keys 'math', 'science', and 'english'. Print the nested dictionary.\n",
    "student = {\n",
    "    'name': 'abc',\n",
    "    'age': 21,\n",
    "    'grades': {\n",
    "        'math': 'O',\n",
    "        'science': 'B+',\n",
    "        'english': 'A'\n",
    "    }\n",
    "}\n",
    "print(student)"
   ]
  },
  {
   "cell_type": "code",
   "execution_count": 13,
   "id": "9c0d2735",
   "metadata": {},
   "outputs": [
    {
     "name": "stdout",
     "output_type": "stream",
     "text": [
      "{1: [1, 2, 3, 4, 5], 2: [2, 4, 6, 8, 10], 3: [3, 6, 9, 12, 15], 4: [4, 8, 12, 16, 20], 5: [5, 10, 15, 20, 25]}\n"
     ]
    }
   ],
   "source": [
    "### Assignment 8: Dictionary of Lists\n",
    "\n",
    "#Create a dictionary where the keys are the first 5 positive integers and the values are lists containing the first 5 multiples of the key. \n",
    "# Print the dictionary.\n",
    "mul_dict={i:[i*j for j in range(1,6)] for i in range(1,6)}\n",
    "print(mul_dict)\n"
   ]
  },
  {
   "cell_type": "code",
   "execution_count": 15,
   "id": "0817d5de",
   "metadata": {},
   "outputs": [
    {
     "name": "stdout",
     "output_type": "stream",
     "text": [
      "{1: (1, 1), 2: (2, 4), 3: (3, 9), 4: (4, 16), 5: (5, 25)}\n"
     ]
    }
   ],
   "source": [
    "### Assignment 9: Dictionary of Tuples\n",
    "\n",
    "#Create a dictionary where the keys are the first 5 positive integers and the values are tuples containing the key and its square.\n",
    "#  Print the dictionary.\n",
    "d={x:(x,x**2) for x in range(1,6)}\n",
    "print(d)"
   ]
  },
  {
   "cell_type": "code",
   "execution_count": 17,
   "id": "7beda847",
   "metadata": {},
   "outputs": [
    {
     "name": "stdout",
     "output_type": "stream",
     "text": [
      "[(1, 1), (2, 4), (3, 9), (4, 16), (5, 25)]\n"
     ]
    }
   ],
   "source": [
    "### Assignment 10: Dictionary and List Conversion\n",
    "\n",
    "#Create a dictionary with the first 5 positive integers as keys and their squares as values. \n",
    "# Convert the dictionary to a list of tuples and print it.\n",
    "d={x:x**2 for x in range(1,6)}\n",
    "tuples=list(d.items())\n",
    "print(tuples)"
   ]
  },
  {
   "cell_type": "code",
   "execution_count": 18,
   "id": "c2ed90da",
   "metadata": {},
   "outputs": [
    {
     "name": "stdout",
     "output_type": "stream",
     "text": [
      "{2: 4, 4: 16, 6: 36, 8: 64}\n"
     ]
    }
   ],
   "source": [
    "### Assignment 11: Dictionary Filtering\n",
    "\n",
    "#Create a dictionary with the first 10 positive integers as keys and their squares as values. \n",
    "#Create a new dictionary containing only the key-value pairs where the key is even. Print the new dictionary.\n",
    "d1={x:x**2 for x in range(1,10)}\n",
    "key_even={k:v for k,v in d1.items() if k%2==0}\n",
    "print(key_even)"
   ]
  },
  {
   "cell_type": "code",
   "execution_count": 22,
   "id": "5bb74a39",
   "metadata": {},
   "outputs": [
    {
     "name": "stdout",
     "output_type": "stream",
     "text": [
      "{1: 1, 4: 2, 9: 3, 16: 4, 25: 5}\n"
     ]
    }
   ],
   "source": [
    "### Assignment 12: Dictionary Key and Value Transformation\n",
    "\n",
    "#Create a dictionary with the first 5 positive integers as keys and their squares as values.\n",
    "#  Create a new dictionary with keys and values swapped. Print the new dictionary.\n",
    "d={x:x**2 for x in range(1,6)}\n",
    "swap={v:k for k,v in d.items()}\n",
    "print(swap)\n"
   ]
  },
  {
   "cell_type": "code",
   "execution_count": 24,
   "id": "ca525764",
   "metadata": {},
   "outputs": [
    {
     "name": "stdout",
     "output_type": "stream",
     "text": [
      "{'a': ['Apple'], 'b': ['cherry', 'grapes']}\n"
     ]
    }
   ],
   "source": [
    "### Assignment 13: Default Dictionary\n",
    "\n",
    "#Create a default dictionary where each key has a default value of an empty list. Add some elements to the lists and print the dictionary.\n",
    "from collections import defaultdict\n",
    "d=defaultdict(list)\n",
    "d['a'].append(\"Apple\")\n",
    "d['b'].append(\"cherry\")\n",
    "d['b'].append(\"grapes\")\n",
    "print(dict(d))"
   ]
  },
  {
   "cell_type": "code",
   "execution_count": 26,
   "id": "4fdd92ce",
   "metadata": {},
   "outputs": [
    {
     "name": "stdout",
     "output_type": "stream",
     "text": [
      "{'W': 1, 'e': 2, 'l': 1, 'c': 1, 'o': 1, 'm': 1}\n"
     ]
    }
   ],
   "source": [
    "### Assignment 14: Counting with Dictionaries\n",
    "\n",
    "#Write a function that takes a string and returns a dictionary with the count of each character in the string. Print the dictionary.\n",
    "\n",
    "def count_character(text):\n",
    "    result={}\n",
    "    for char in text:\n",
    "        if char in result:\n",
    "            result[char]+=1\n",
    "        else:\n",
    "            result[char]=1\n",
    "    return result\n",
    "text=\"Welcome\"\n",
    "char_count=count_character(text)\n",
    "print(char_count)"
   ]
  },
  {
   "cell_type": "code",
   "execution_count": null,
   "id": "af1a8e36",
   "metadata": {},
   "outputs": [],
   "source": [
    "### Assignment 15: Dictionary and JSON\n",
    "\n",
    "#Create a dictionary representing a book with keys 'title', 'author', 'year', and 'genre'. Convert the dictionary to a JSON string and print it.\n",
    "import json\n",
    "book={\n",
    "    'title': 'Python Basics',\n",
    "    'author': 'John Doe',\n",
    "    'year': 2023,\n",
    "    'genre': 'Programming'\n",
    "}\n",
    "book_json=json.dumps(book)\n",
    "print(book_json)"
   ]
  }
 ],
 "metadata": {
  "kernelspec": {
   "display_name": "Python 3",
   "language": "python",
   "name": "python3"
  },
  "language_info": {
   "codemirror_mode": {
    "name": "ipython",
    "version": 3
   },
   "file_extension": ".py",
   "mimetype": "text/x-python",
   "name": "python",
   "nbconvert_exporter": "python",
   "pygments_lexer": "ipython3",
   "version": "3.13.3"
  }
 },
 "nbformat": 4,
 "nbformat_minor": 5
}
