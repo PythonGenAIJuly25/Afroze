{
 "cells": [
  {
   "cell_type": "markdown",
   "metadata": {},
   "source": [
    "# Module 3: Data Structures Assignments\n",
    "## Lesson 3.1: Lists\n",
    "### Assignment 1: Creating and Accessing Lists\n",
    "\n",
    "Create a list of the first 20 positive integers. Print the list.\n",
    "\n",
    "### Assignment 2: Accessing List Elements\n",
    "\n",
    "Print the first, middle, and last elements of the list created in Assignment 1.\n",
    "\n",
    "### Assignment 3: List Slicing\n",
    "\n",
    "Print the first five elements, the last five elements, and the elements from index 5 to 15 of the list created in Assignment 1.\n",
    "\n",
    "### Assignment 4: List Comprehensions\n",
    "\n",
    "Create a new list containing the squares of the first 10 positive integers using a list comprehension. Print the new list.\n",
    "\n",
    "### Assignment 5: Filtering Lists\n",
    "\n",
    "Create a new list containing only the even numbers from the list created in Assignment 1 using a list comprehension. Print the new list.\n",
    "\n",
    "### Assignment 6: List Methods\n",
    "\n",
    "Create a list of random numbers and sort it in ascending and descending order. Remove the duplicates from the list and print the modified list.\n",
    "\n",
    "### Assignment 7: Nested Lists\n",
    "\n",
    "Create a nested list representing a 3x3 matrix and print the matrix. Access and print the element at the second row and third column.\n",
    "\n",
    "### Assignment 8: List of Dictionaries\n",
    "\n",
    "Create a list of dictionaries where each dictionary represents a student with keys 'name' and 'score'. Sort the list of dictionaries by the 'score' in descending order and print the sorted list.\n",
    "\n",
    "### Assignment 9: Matrix Transposition\n",
    "\n",
    "Write a function that takes a 3x3 matrix (nested list) as input and returns its transpose. Print the original and transposed matrices.\n",
    "\n",
    "### Assignment 10: Flattening a Nested List\n",
    "\n",
    "Write a function that takes a nested list and flattens it into a single list. Print the original and flattened lists.\n",
    "\n",
    "### Assignment 11: List Manipulation\n",
    "\n",
    "Create a list of the first 10 positive integers. Remove the elements at indices 2, 4, and 6, and insert the element '99' at index 5. Print the modified list.\n",
    "\n",
    "### Assignment 12: List Zipping\n",
    "\n",
    "Create two lists of the same length. Use the `zip` function to combine these lists into a list of tuples and print the result.\n",
    "\n",
    "### Assignment 13: List Reversal\n",
    "\n",
    "Write a function that takes a list and returns a new list with the elements in reverse order. Print the original and reversed lists.\n",
    "\n",
    "### Assignment 14: List Rotation\n",
    "\n",
    "Write a function that rotates a list by n positions. Print the original and rotated lists.\n",
    "\n",
    "### Assignment 15: List Intersection\n",
    "\n",
    "Write a function that takes two lists and returns a new list containing only the elements that are present in both lists. Print the intersected list."
   ]
  },
  {
   "cell_type": "code",
   "execution_count": 2,
   "metadata": {},
   "outputs": [
    {
     "name": "stdout",
     "output_type": "stream",
     "text": [
      "[1, 2, 3, 4, 5, 6, 7, 8, 9, 10, 11, 12, 13, 14, 15, 16, 17, 18, 19, 20]\n"
     ]
    }
   ],
   "source": [
    "## Lesson 3.1: Lists\n",
    "### Assignment 1: Creating and Accessing Lists\n",
    "\n",
    "#Create a list of the first 20 positive integers. Print the list.\n",
    "num=list(range(1,21))\n",
    "print(num)"
   ]
  },
  {
   "cell_type": "code",
   "execution_count": 11,
   "id": "f1965274",
   "metadata": {},
   "outputs": [
    {
     "name": "stdout",
     "output_type": "stream",
     "text": [
      "First Element: 1\n",
      "middle Element: 11\n",
      "Last Element: 20\n"
     ]
    }
   ],
   "source": [
    "### Assignment 2: Accessing List Elements\n",
    "\n",
    "#Print the first, middle, and last elements of the list created in Assignment 1.\n",
    "num=list(range(1,21))\n",
    "print(\"First Element:\",num[0])\n",
    "print(\"middle Element:\",num[len(num)//2])\n",
    "print(\"Last Element:\",num[-1])\n"
   ]
  },
  {
   "cell_type": "code",
   "execution_count": 12,
   "id": "4638c376",
   "metadata": {},
   "outputs": [
    {
     "name": "stdout",
     "output_type": "stream",
     "text": [
      "[1, 2, 3, 4, 5]\n",
      "[16, 17, 18, 19, 20]\n",
      "[6, 7, 8, 9, 10, 11, 12, 13, 14, 15, 16]\n"
     ]
    }
   ],
   "source": [
    "### Assignment 3: List Slicing\n",
    "\n",
    "#Print the first five elements, the last five elements, and the elements from index 5 to 15 of the list created in Assignment 1.\n",
    "print(num[:5])\n",
    "print(num[-5:])\n",
    "print(num[5:16])\n"
   ]
  },
  {
   "cell_type": "code",
   "execution_count": 13,
   "id": "fe63644b",
   "metadata": {},
   "outputs": [
    {
     "name": "stdout",
     "output_type": "stream",
     "text": [
      "[1, 4, 9, 16, 25, 36, 49, 64, 81, 100]\n"
     ]
    }
   ],
   "source": [
    "### Assignment 4: List Comprehensions\n",
    "\n",
    "#Create a new list containing the squares of the first 10 positive integers using a list comprehension. Print the new list.\n",
    "squares=[x**2 for x in range(1,11)]\n",
    "print(squares)"
   ]
  },
  {
   "cell_type": "code",
   "execution_count": null,
   "id": "f5ebf53f",
   "metadata": {},
   "outputs": [
    {
     "name": "stdout",
     "output_type": "stream",
     "text": [
      "[2, 4, 6, 8, 10, 12, 14, 16, 18, 20]\n"
     ]
    }
   ],
   "source": [
    "### Assignment 5: Filtering Lists\n",
    "\n",
    "#Create a new list containing only the even numbers from the list created in Assignment 1 using a list comprehension. Print the new list.\n",
    "num=list(range(1,21))\n",
    "even_nums=[x for x in num if x%2==0]\n",
    "print(even_nums)\n"
   ]
  },
  {
   "cell_type": "code",
   "execution_count": null,
   "id": "d66f60ee",
   "metadata": {},
   "outputs": [
    {
     "name": "stdout",
     "output_type": "stream",
     "text": [
      "asc_order: [0, 1, 2, 2, 3, 4, 6, 7, 7, 9]\n",
      "desc_order: [9, 7, 7, 6, 4, 3, 2, 2, 1, 0]\n",
      "unique_num: [0, 1, 2, 3, 4, 6, 7, 9]\n"
     ]
    }
   ],
   "source": [
    "### Assignment 6: List Methods\n",
    "\n",
    "#Create a list of random numbers and sort it in ascending and descending order. Remove the duplicates from the list and print the modified list.\n",
    "l=[2,3,2,6,7,4,0,7,9,1]\n",
    "\n",
    "asc_order=sorted(l)\n",
    "print(\"asc_order:\",asc_order)\n",
    "\n",
    "desc_order=sorted(l,reverse=True)\n",
    "print(\"desc_order:\",desc_order)\n",
    "\n",
    "unique_num=list(set(l))\n",
    "print(\"unique_num:\",unique_num)\n"
   ]
  },
  {
   "cell_type": "code",
   "execution_count": 27,
   "id": "94a67d37",
   "metadata": {},
   "outputs": [
    {
     "name": "stdout",
     "output_type": "stream",
     "text": [
      "Matrix:\n",
      "[1, 2, 3]\n",
      "[4, 5, 6]\n",
      "[7, 8, 9]\n",
      "the element at the second row and third column: 6\n"
     ]
    }
   ],
   "source": [
    "\n",
    "### Assignment 7: Nested Lists\n",
    "\n",
    "#Create a nested list representing a 3x3 matrix and print the matrix. Access and print the element at the second row and third column.\n",
    "matrix=[\n",
    "    [1,2,3],\n",
    "    [4,5,6],\n",
    "    [7,8,9] \n",
    "]\n",
    "print(\"Matrix:\")\n",
    "for row in matrix:\n",
    "    print(row)\n",
    "\n",
    "element=matrix[1][2]\n",
    "print(\"the element at the second row and third column:\",element)\n"
   ]
  },
  {
   "cell_type": "code",
   "execution_count": 33,
   "id": "73b3117b",
   "metadata": {},
   "outputs": [
    {
     "name": "stdout",
     "output_type": "stream",
     "text": [
      "{'name': 'xyz', 'score': 98}\n",
      "{'name': 'abc', 'score': 70}\n",
      "{'name': 'mno', 'score': 67}\n"
     ]
    }
   ],
   "source": [
    "### Assignment 8: List of Dictionaries\n",
    "\n",
    "#Create a list of dictionaries where each dictionary represents a student with keys 'name' and 'score'.\n",
    "#Sort the list of dictionaries by the 'score' in descending order and print the sorted list.\n",
    "\n",
    "d1 = [\n",
    "    {'name': 'abc', 'score': 70},\n",
    "    {'name': 'xyz', 'score': 98},\n",
    "    {'name': 'mno', 'score': 67}\n",
    "]\n",
    "\n",
    "sorted_students=sorted(d1,key=lambda s:s['score'],reverse=True)\n",
    "\n",
    "for d1 in sorted_students:\n",
    "    print(d1)\n",
    "    "
   ]
  },
  {
   "cell_type": "code",
   "execution_count": 35,
   "id": "06c03175",
   "metadata": {},
   "outputs": [
    {
     "name": "stdout",
     "output_type": "stream",
     "text": [
      "Original matrix:\n",
      "[1, 2, 3]\n",
      "[4, 5, 6]\n",
      "[7, 8, 9]\n",
      "Transposed matrix:\n",
      "[1, 4, 7]\n",
      "[2, 5, 8]\n",
      "[3, 6, 9]\n"
     ]
    }
   ],
   "source": [
    "### Assignment 9: Matrix Transposition\n",
    "\n",
    "#Write a function that takes a 3x3 matrix (nested list) as input and returns its transpose. Print the original and transposed matrices.\n",
    "\n",
    "matrix=[\n",
    "    [1,2,3],\n",
    "    [4,5,6],\n",
    "    [7,8,9]\n",
    "]\n",
    "print(\"Original matrix:\")\n",
    "for row in matrix:\n",
    "    print(row)\n",
    "\n",
    "transpose_matrix=[\n",
    "    [0,0,0],\n",
    "    [0,0,0],\n",
    "    [0,0,0]\n",
    "]\n",
    "\n",
    "for i in range(3):\n",
    "    for j in range(3):\n",
    "        transpose_matrix[i][j]=matrix[j][i]\n",
    "\n",
    "print(\"Transposed matrix:\")\n",
    "for row in transpose_matrix:\n",
    "    print(row)\n"
   ]
  },
  {
   "cell_type": "code",
   "execution_count": 36,
   "id": "610937e0",
   "metadata": {},
   "outputs": [
    {
     "name": "stdout",
     "output_type": "stream",
     "text": [
      "Original list: [[1, 2], [3, 4], [5, 6]]\n",
      "fllaten list: [1, 2, 3, 4, 5, 6]\n"
     ]
    }
   ],
   "source": [
    "### Assignment 10: Flattening a Nested List\n",
    "\n",
    "#Write a function that takes a nested list and flattens it into a single list. Print the original and flattened lists.\n",
    "nested_list=[[1,2],[3,4],[5,6]]\n",
    "flat=[]\n",
    "for sublist in nested_list:\n",
    "    for item in sublist:\n",
    "        flat.append(item)\n",
    "print(\"Original list:\",nested_list)\n",
    "print(\"fllaten list:\",flat)\n"
   ]
  },
  {
   "cell_type": "code",
   "execution_count": null,
   "id": "b094f449",
   "metadata": {},
   "outputs": [
    {
     "name": "stdout",
     "output_type": "stream",
     "text": [
      "Original numbers: [1, 2, 3, 4, 5, 6, 7, 8, 9, 10]\n",
      "Modified numbers: [1, 2, 4, 5, 7, 99, 8, 10]\n"
     ]
    }
   ],
   "source": [
    "### Assignment 11: List Manipulation\n",
    "\n",
    "#Create a list of the first 10 positive integers. Remove the elements at indices 2, 4, and 6, and insert the element '99' at index 5. Print the modified list.\n",
    "numbers=[1,2,3,4,5,6,7,8,9,10]\n",
    "print(\"Original numbers:\",numbers)\n",
    "\n",
    "del numbers[2]\n",
    "del numbers[4]\n",
    "del numbers[6]\n",
    "\n",
    "numbers.insert(5,99)\n",
    "print(\"Modified numbers:\",numbers)\n",
    "\n"
   ]
  },
  {
   "cell_type": "code",
   "execution_count": 38,
   "id": "9118b0d5",
   "metadata": {},
   "outputs": [
    {
     "name": "stdout",
     "output_type": "stream",
     "text": [
      "[('abc', 78), ('xyz', 93), ('mno', 66)]\n"
     ]
    }
   ],
   "source": [
    "### Assignment 12: List Zipping\n",
    "\n",
    "#Create two lists of the same length. Use the `zip` function to combine these lists into a list of tuples and print the result.\n",
    "names=['abc','xyz','mno']\n",
    "scores=[78,93,66]\n",
    "\n",
    "combined=list(zip(names,scores))\n",
    "\n",
    "print(combined)\n",
    "\n"
   ]
  },
  {
   "cell_type": "code",
   "execution_count": 43,
   "id": "34b4a2bd",
   "metadata": {},
   "outputs": [
    {
     "name": "stdout",
     "output_type": "stream",
     "text": [
      "[10, 20, 30, 40, 50]\n",
      "[50, 40, 30, 20, 10]\n"
     ]
    }
   ],
   "source": [
    "### Assignment 13: List Reversal\n",
    "\n",
    "#Write a function that takes a list and returns a new list with the elements in reverse order. Print the original and reversed lists.\n",
    "def reversed_list(l):\n",
    "    return l[::-1]\n",
    "l=[10,20,30,40,50]\n",
    "reverse=reversed_list(l)\n",
    "print(l)\n",
    "print(reverse)"
   ]
  },
  {
   "cell_type": "code",
   "execution_count": 47,
   "id": "c8e37bcc",
   "metadata": {},
   "outputs": [
    {
     "name": "stdout",
     "output_type": "stream",
     "text": [
      "original: [1, 2, 3, 4, 5]\n",
      "rotated: [4, 5, 1, 2, 3]\n"
     ]
    }
   ],
   "source": [
    "### Assignment 14: List Rotation\n",
    "\n",
    "#Write a function that rotates a list by n positions. Print the original and rotated lists.\n",
    "def rotated(l):\n",
    "    return l[n:]+l[:n]\n",
    "l=[1,2,3,4,5]\n",
    "n=3\n",
    "rotate=rotated(l)\n",
    "print(\"original:\",l)\n",
    "print(\"rotated:\",rotate)\n"
   ]
  },
  {
   "cell_type": "code",
   "execution_count": 46,
   "id": "8ff1cd9f",
   "metadata": {},
   "outputs": [
    {
     "name": "stdout",
     "output_type": "stream",
     "text": [
      "[3, 4]\n"
     ]
    }
   ],
   "source": [
    "### Assignment 15: List Intersection\n",
    "\n",
    "#Write a function that takes two lists and returns a new list containing only the elements that are present in both lists. \n",
    "# Print the intersected list.\n",
    "def list_intersection(l1,l2):\n",
    "    return[x for x in l1 if x in l2]\n",
    "\n",
    "l1=[1,2,3,4]\n",
    "l2=[3,4,5,6,7,8]\n",
    "res=list_intersection(l1,l2)\n",
    "print(res)\n"
   ]
  }
 ],
 "metadata": {
  "kernelspec": {
   "display_name": "Python 3",
   "language": "python",
   "name": "python3"
  },
  "language_info": {
   "codemirror_mode": {
    "name": "ipython",
    "version": 3
   },
   "file_extension": ".py",
   "mimetype": "text/x-python",
   "name": "python",
   "nbconvert_exporter": "python",
   "pygments_lexer": "ipython3",
   "version": "3.13.3"
  }
 },
 "nbformat": 4,
 "nbformat_minor": 5
}
