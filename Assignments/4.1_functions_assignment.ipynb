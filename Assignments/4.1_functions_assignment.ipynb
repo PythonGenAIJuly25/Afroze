{
 "cells": [
  {
   "cell_type": "markdown",
   "metadata": {},
   "source": [
    "# Module 4: Functions Assignments\n",
    "## Lesson 4.1: Defining Functions\n",
    "### Assignment 1: Simple Function\n",
    "\n",
    "Define a function that takes a single integer as input and returns its square. Test the function with different inputs.\n",
    "\n",
    "### Assignment 2: Multiple Arguments\n",
    "\n",
    "Define a function that takes two integers as input and returns their sum. Test the function with different inputs.\n",
    "\n",
    "### Assignment 3: Default Arguments\n",
    "\n",
    "Define a function that takes two integers as input and returns their sum. The second integer should have a default value of 5. Test the function with different inputs.\n",
    "\n",
    "### Assignment 4: Keyword Arguments\n",
    "\n",
    "Define a function that takes three named arguments: first_name, last_name, and age, and returns a formatted string. Test the function with different inputs.\n",
    "\n",
    "### Assignment 5: Variable-length Arguments\n",
    "\n",
    "Define a function that takes a variable number of integer arguments and returns their product. Test the function with different inputs.\n",
    "\n",
    "### Assignment 6: Nested Functions\n",
    "\n",
    "Define a function that contains another function inside it. The outer function should take two integers as input and return the result of the inner function, which multiplies the two integers. Test the function with different inputs.\n",
    "\n",
    "### Assignment 7: Returning Multiple Values\n",
    "\n",
    "Define a function that takes a single integer as input and returns the integer squared, cubed, and raised to the power of four. Test the function with different inputs.\n",
    "\n",
    "### Assignment 8: Recursive Function\n",
    "\n",
    "Define a recursive function that calculates the factorial of a given number. Test the function with different inputs.\n",
    "\n",
    "### Assignment 9: Lambda Function\n",
    "\n",
    "Define a lambda function that takes two integers as input and returns their sum. Test the lambda function with different inputs.\n",
    "\n",
    "### Assignment 10: Map Function\n",
    "\n",
    "Use the map function to apply a lambda function that squares each number in a list of integers. Test with different lists.\n",
    "\n",
    "### Assignment 11: Filter Function\n",
    "\n",
    "Use the filter function to filter out all odd numbers from a list of integers. Test with different lists.\n",
    "\n",
    "### Assignment 12: Function Decorator\n",
    "\n",
    "Define a decorator function that prints 'Executing function...' before executing a function and 'Function executed.' after executing it. Apply this decorator to a function that takes a list of integers and returns their sum. Test the decorated function with different lists.\n",
    "\n",
    "### Assignment 13: Function with *args and **kwargs\n",
    "\n",
    "Define a function that takes variable-length arguments and keyword arguments and prints them. Test the function with different inputs.\n",
    "\n",
    "### Assignment 14: Higher-Order Function\n",
    "\n",
    "Define a higher-order function that takes a function and a list of integers as arguments, and applies the function to each integer in the list. Test with different functions and lists.\n",
    "\n",
    "### Assignment 15: Function Documentation\n",
    "\n",
    "Define a function with a docstring that explains what the function does, its parameters, and its return value. Print the function's docstring."
   ]
  },
  {
   "cell_type": "code",
   "execution_count": 1,
   "metadata": {},
   "outputs": [
    {
     "data": {
      "text/plain": [
       "25"
      ]
     },
     "execution_count": 1,
     "metadata": {},
     "output_type": "execute_result"
    }
   ],
   "source": [
    "### Assignment 1: Simple Function\n",
    "\n",
    "#Define a function that takes a single integer as input and returns its square. Test the function with different inputs.\n",
    "def square(num):\n",
    "    return num**2\n",
    "num=int(input(\"Enter a num:\"))\n",
    "square(num)\n"
   ]
  },
  {
   "cell_type": "code",
   "execution_count": 5,
   "id": "5bf90cec",
   "metadata": {},
   "outputs": [
    {
     "data": {
      "text/plain": [
       "22"
      ]
     },
     "execution_count": 5,
     "metadata": {},
     "output_type": "execute_result"
    }
   ],
   "source": [
    "### Assignment 2: Multiple Arguments\n",
    "\n",
    "#Define a function that takes two integers as input and returns their sum. Test the function with different inputs.\n",
    "def sum(num1,num2):\n",
    "    return num1+num2\n",
    "\n",
    "sum(10,12)"
   ]
  },
  {
   "cell_type": "code",
   "execution_count": null,
   "id": "ea6f841d",
   "metadata": {},
   "outputs": [
    {
     "data": {
      "text/plain": [
       "6"
      ]
     },
     "execution_count": 7,
     "metadata": {},
     "output_type": "execute_result"
    }
   ],
   "source": [
    "### Assignment 3: Default Arguments\n",
    "\n",
    "#Define a function that takes two integers as input and returns their sum. The second integer should have a default value of 5.\n",
    "#  Test the function with different inputs.\n",
    "\n",
    "def sum(num1,num2=5):\n",
    "    return num1+num2\n",
    "sum(10,2)\n",
    "sum(1)\n"
   ]
  },
  {
   "cell_type": "code",
   "execution_count": 11,
   "id": "10099be8",
   "metadata": {},
   "outputs": [
    {
     "name": "stdout",
     "output_type": "stream",
     "text": [
      "Dudekula Afroze is 21 years old\n"
     ]
    }
   ],
   "source": [
    "### Assignment 4: Keyword Arguments\n",
    "\n",
    "#Define a function that takes three named arguments: first_name, last_name, and age, and returns a formatted string. \n",
    "# Test the function with different inputs.\n",
    "def func(first_name,last_name,age):\n",
    "    return f\"{first_name} {last_name} is {age} years old\"\n",
    "print(func(\"Dudekula\",\"Afroze\",21))\n",
    "  "
   ]
  },
  {
   "cell_type": "code",
   "execution_count": 13,
   "id": "85166cac",
   "metadata": {},
   "outputs": [
    {
     "name": "stdout",
     "output_type": "stream",
     "text": [
      "6\n",
      "24\n"
     ]
    }
   ],
   "source": [
    "### Assignment 5: Variable-length Arguments\n",
    "\n",
    "#Define a function that takes a variable number of integer arguments and returns their product. Test the function with different inputs.\n",
    "def product(*args):\n",
    "    res = 1\n",
    "    for num in args:\n",
    "        res *= num\n",
    "    return res\n",
    "\n",
    "print(product(2, 3))   \n",
    "print(product(2, 3, 4)) \n",
    "\n"
   ]
  },
  {
   "cell_type": "code",
   "execution_count": 14,
   "id": "412474ff",
   "metadata": {},
   "outputs": [
    {
     "name": "stdout",
     "output_type": "stream",
     "text": [
      "6\n"
     ]
    }
   ],
   "source": [
    "### Assignment 6: Nested Functions\n",
    "\n",
    "#Define a function that contains another function inside it. \n",
    "# The outer function should take two integers as input and return the result of the inner function, which multiplies the two integers.\n",
    "#  Test the function with different inputs.\n",
    "\n",
    "def outer(a,b):\n",
    "    def inner(x,y):\n",
    "        return x*y\n",
    "    return a*b\n",
    "print(outer(2,3))\n"
   ]
  },
  {
   "cell_type": "code",
   "execution_count": 16,
   "id": "f824159c",
   "metadata": {},
   "outputs": [
    {
     "name": "stdout",
     "output_type": "stream",
     "text": [
      "(4, 8, 16)\n"
     ]
    }
   ],
   "source": [
    "### Assignment 7: Returning Multiple Values\n",
    "\n",
    "#Define a function that takes a single integer as input and returns the integer squared, cubed, and raised to the power of four.\n",
    "#  Test the function with different inputs.\n",
    "\n",
    "def func(a):\n",
    "    return a**2,a**3,a**4\n",
    "\n",
    "print(func(2))"
   ]
  },
  {
   "cell_type": "code",
   "execution_count": 19,
   "id": "8212c2ab",
   "metadata": {},
   "outputs": [
    {
     "name": "stdout",
     "output_type": "stream",
     "text": [
      "120\n"
     ]
    }
   ],
   "source": [
    "### Assignment 8: Recursive Function\n",
    "\n",
    "#Define a recursive function that calculates the factorial of a given number. Test the function with different inputs.\n",
    "def factorial(num):\n",
    "    fact=1\n",
    "    for i in range(1,num+1):\n",
    "        fact*=i\n",
    "    return fact\n",
    "print(factorial(5))\n"
   ]
  },
  {
   "cell_type": "code",
   "execution_count": 20,
   "id": "a84c4535",
   "metadata": {},
   "outputs": [
    {
     "name": "stdout",
     "output_type": "stream",
     "text": [
      "5\n"
     ]
    }
   ],
   "source": [
    "### Assignment 9: Lambda Function\n",
    "\n",
    "#Define a lambda function that takes two integers as input and returns their sum. Test the lambda function with different inputs.\n",
    "add=lambda x,y:x+y\n",
    "print(add(2,3))\n"
   ]
  },
  {
   "cell_type": "code",
   "execution_count": 21,
   "id": "9b4345af",
   "metadata": {},
   "outputs": [
    {
     "data": {
      "text/plain": [
       "[1, 4, 9, 16, 25]"
      ]
     },
     "execution_count": 21,
     "metadata": {},
     "output_type": "execute_result"
    }
   ],
   "source": [
    "### Assignment 10: Map Function\n",
    "\n",
    "#Use the map function to apply a lambda function that squares each number in a list of integers. Test with different lists.\n",
    "num=[1,2,3,4,5]\n",
    "squares=list(map(lambda x:x**2,num))\n",
    "squares"
   ]
  },
  {
   "cell_type": "code",
   "execution_count": 22,
   "id": "a8190586",
   "metadata": {},
   "outputs": [
    {
     "name": "stdout",
     "output_type": "stream",
     "text": [
      "[2, 4, 6]\n"
     ]
    }
   ],
   "source": [
    "### Assignment 11: Filter Function\n",
    "\n",
    "#Use the filter function to filter out all odd numbers from a list of integers. Test with different lists.\n",
    "numbers = [1, 2, 3, 4, 5, 6]\n",
    "evens = list(filter(lambda x: x % 2 == 0, numbers))\n",
    "\n",
    "print(evens)\n"
   ]
  },
  {
   "cell_type": "code",
   "execution_count": null,
   "id": "16ecfaa5",
   "metadata": {},
   "outputs": [],
   "source": [
    "### Assignment 12: Function Decorator\n",
    "\n",
    "#Define a decorator function that prints 'Executing function...' before executing a function and 'Function executed.' after executing it. \n",
    "# Apply this decorator to a function that takes a list of integers and returns their sum. Test the decorated function with different lists.\n",
    "def decorator_func(func):\n",
    "    def wrapper_func(lst):\n",
    "        print(\"Executing function\")\n",
    "        result = func(lst)\n",
    "        print(\"Function executed\")\n",
    "        return result\n",
    "    return wrapper_func\n",
    "\n",
    "@decorator_func\n",
    "def add_numbers(lst):\n",
    "    return sum(lst)\n",
    "\n",
    "print(add_numbers([1, 2, 3]))"
   ]
  },
  {
   "cell_type": "code",
   "execution_count": 32,
   "id": "86e5077c",
   "metadata": {},
   "outputs": [
    {
     "name": "stdout",
     "output_type": "stream",
     "text": [
      "Args: (1, 2, 3)\n",
      "Kwargs: {'name': 'abc', 'age': 25}\n"
     ]
    }
   ],
   "source": [
    "### Assignment 13: Function with *args and **kwargs\n",
    "\n",
    "#Define a function that takes variable-length arguments and keyword arguments and prints them. Test the function with different inputs.\n",
    "def print_args_kwargs(*args, **kwargs):\n",
    "    print(\"Args:\", args)\n",
    "    print(\"Kwargs:\", kwargs)\n",
    "\n",
    "print_args_kwargs(1, 2, 3, name=\"abc\", age=25)\n"
   ]
  },
  {
   "cell_type": "code",
   "execution_count": 33,
   "id": "09927061",
   "metadata": {},
   "outputs": [
    {
     "name": "stdout",
     "output_type": "stream",
     "text": [
      "[2, 4, 6]\n"
     ]
    }
   ],
   "source": [
    "\n",
    "### Assignment 14: Higher-Order Function\n",
    "\n",
    "#Define a higher-order function that takes a function and a list of integers as arguments, and applies the function to each integer in the list. \n",
    "# Test with different functions and lists.\n",
    "def apply_function(func, lst):\n",
    "    return [func(x) for x in lst]\n",
    "\n",
    "print(apply_function(lambda x: x * 2, [1, 2, 3]))"
   ]
  },
  {
   "cell_type": "code",
   "execution_count": 34,
   "id": "ea3e6140",
   "metadata": {},
   "outputs": [
    {
     "name": "stdout",
     "output_type": "stream",
     "text": [
      "\n",
      "Multiplies two numbers and returns the result.\n",
      "\n",
      "Parameters:\n",
      "a : The first number.\n",
      "b : The second number.\n",
      "\n",
      "Returns:\n",
      "The product of a and b.\n",
      "\n"
     ]
    }
   ],
   "source": [
    "### Assignment 15: Function Documentation\n",
    "\n",
    "#Define a function with a docstring that explains what the function does, its parameters, and its return value. Print the function's docstring.\n",
    "\n",
    "def multiply(a, b):\n",
    "    \"\"\"\n",
    "    Multiplies two numbers and returns the result.\n",
    "\n",
    "    Parameters:\n",
    "    a : The first number.\n",
    "    b : The second number.\n",
    "\n",
    "    Returns:\n",
    "    The product of a and b.\n",
    "    \"\"\"\n",
    "    return a * b\n",
    "\n",
    "print(multiply.__doc__)"
   ]
  }
 ],
 "metadata": {
  "kernelspec": {
   "display_name": "Python 3",
   "language": "python",
   "name": "python3"
  },
  "language_info": {
   "codemirror_mode": {
    "name": "ipython",
    "version": 3
   },
   "file_extension": ".py",
   "mimetype": "text/x-python",
   "name": "python",
   "nbconvert_exporter": "python",
   "pygments_lexer": "ipython3",
   "version": "3.13.3"
  }
 },
 "nbformat": 4,
 "nbformat_minor": 5
}
