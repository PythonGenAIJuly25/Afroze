{
 "cells": [
  {
   "cell_type": "markdown",
   "id": "12093619",
   "metadata": {},
   "source": [
    "Simple Calculator\n"
   ]
  },
  {
   "cell_type": "code",
   "execution_count": 9,
   "id": "f624b066",
   "metadata": {},
   "outputs": [
    {
     "name": "stdout",
     "output_type": "stream",
     "text": [
      "Addition: 5\n"
     ]
    }
   ],
   "source": [
    "num1=int(input(\"Enter num1:\"))\n",
    "num2=int(input(\"Enter num2:\"))\n",
    "\n",
    "operator=input(\"Choose an operator among +,-,*,%,/,//:\")\n",
    "if operator=='+':\n",
    "    print(\"Addition:\",num1+num2)\n",
    "elif operator=='-':\n",
    "    print(\"Substraction:\",num1-num2)\n",
    "elif operator=='*':\n",
    "    print(\"Multiplication:\",num1*num2)\n",
    "elif operator=='%':\n",
    "    print(\"Modulus:\",num1%num2)\n",
    "elif operator=='/':\n",
    "    print(\"Division:\",num1//num2)\n",
    "elif operator=='//':\n",
    "    print(\"Floor division:\",num1//num2)\n",
    "else:\n",
    "    print(\"Invalid operator\")"
   ]
  }
 ],
 "metadata": {
  "kernelspec": {
   "display_name": "Python 3",
   "language": "python",
   "name": "python3"
  },
  "language_info": {
   "codemirror_mode": {
    "name": "ipython",
    "version": 3
   },
   "file_extension": ".py",
   "mimetype": "text/x-python",
   "name": "python",
   "nbconvert_exporter": "python",
   "pygments_lexer": "ipython3",
   "version": "3.13.3"
  }
 },
 "nbformat": 4,
 "nbformat_minor": 5
}
