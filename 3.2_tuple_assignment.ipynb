{
 "cells": [
  {
   "cell_type": "markdown",
   "id": "6cade624",
   "metadata": {},
   "source": [
    "# Module 3: Data Structures Assignments\n",
    "## Lesson 3.2: Tuples\n",
    "### Assignment 1: Creating and Accessing Tuples\n",
    "\n",
    "Create a tuple with the first 10 positive integers. Print the tuple.\n",
    "\n",
    "### Assignment 2: Accessing Tuple Elements\n",
    "\n",
    "Print the first, middle, and last elements of the tuple created in Assignment 1.\n",
    "\n",
    "### Assignment 3: Tuple Slicing\n",
    "\n",
    "Print the first three elements, the last three elements, and the elements from index 2 to 5 of the tuple created in Assignment 1.\n",
    "\n",
    "### Assignment 4: Nested Tuples\n",
    "\n",
    "Create a nested tuple representing a 3x3 matrix and print the matrix. Access and print the element at the second row and third column.\n",
    "\n",
    "### Assignment 5: Tuple Concatenation\n",
    "\n",
    "Concatenate two tuples: (1, 2, 3) and (4, 5, 6). Print the resulting tuple.\n",
    "\n",
    "### Assignment 6: Tuple Methods\n",
    "\n",
    "Create a tuple with duplicate elements and count the occurrences of an element. Find the index of the first occurrence of an element in the tuple.\n",
    "\n",
    "### Assignment 7: Unpacking Tuples\n",
    "\n",
    "Create a tuple with 5 elements and unpack it into 5 variables. Print the variables.\n",
    "\n",
    "### Assignment 8: Tuple Conversion\n",
    "\n",
    "Convert a list of the first 5 positive integers to a tuple. Print the tuple.\n",
    "\n",
    "### Assignment 9: Tuple of Tuples\n",
    "\n",
    "Create a tuple containing 3 tuples, each with 3 elements. Print the tuple of tuples.\n",
    "\n",
    "### Assignment 10: Tuple and List\n",
    "\n",
    "Create a tuple with the first 5 positive integers. Convert it to a list, append the number 6, and convert it back to a tuple. Print the resulting tuple.\n",
    "\n",
    "### Assignment 11: Tuple and String\n",
    "\n",
    "Create a tuple with the characters of a string. Join the tuple elements into a single string. Print the string.\n",
    "\n",
    "### Assignment 12: Tuple and Dictionary\n",
    "\n",
    "Create a dictionary with tuple keys and integer values. Print the dictionary.\n",
    "\n",
    "### Assignment 13: Nested Tuple Iteration\n",
    "\n",
    "Create a nested tuple and iterate over the elements, printing each element.\n",
    "\n",
    "### Assignment 14: Tuple and Set\n",
    "\n",
    "Create a tuple with duplicate elements. Convert it to a set to remove duplicates and print the resulting set.\n",
    "\n",
    "### Assignment 15: Tuple Functions\n",
    "\n",
    "Write functions that take a tuple and return the minimum, maximum, and sum of the elements. Print the results for a sample tuple."
   ]
  },
  {
   "cell_type": "code",
   "execution_count": null,
   "metadata": {},
   "outputs": [
    {
     "name": "stdout",
     "output_type": "stream",
     "text": [
      "(1, 2, 3, 4, 5, 6, 7, 8, 9, 10)\n"
     ]
    }
   ],
   "source": [
    "### Assignment 1: Creating and Accessing Tuples\n",
    "\n",
    "#Create a tuple with the first 10 positive integers. Print the tuple.\n",
    "\n",
    "t=tuple(range(1,11))\n",
    "print(t)"
   ]
  },
  {
   "cell_type": "code",
   "execution_count": 7,
   "id": "9c07fa5e",
   "metadata": {},
   "outputs": [
    {
     "name": "stdout",
     "output_type": "stream",
     "text": [
      "First element: 1\n",
      "Middle element: 6\n",
      "Last element: 10\n"
     ]
    }
   ],
   "source": [
    "### Assignment 2: Accessing Tuple Elements\n",
    "\n",
    "#Print the first, middle, and last elements of the tuple created in Assignment 1.\n",
    "t=tuple(range(1,11))\n",
    "print(\"First element:\",t[0])\n",
    "print(\"Middle element:\",t[len(t)//2])\n",
    "print(\"Last element:\",t[-1])\n",
    "\n"
   ]
  },
  {
   "cell_type": "code",
   "execution_count": 13,
   "id": "d6a7e4a8",
   "metadata": {},
   "outputs": [
    {
     "name": "stdout",
     "output_type": "stream",
     "text": [
      "first three elements: (1, 2, 3)\n",
      "last three elements: (8, 9, 10)\n",
      "the elements from index 2 to 5 of the tuple : (3, 4, 5, 6)\n"
     ]
    }
   ],
   "source": [
    "### Assignment 3: Tuple Slicing\n",
    "\n",
    "#Print the first three elements, the last three elements, and the elements from index 2 to 5 of the tuple created in Assignment 1.\n",
    "\n",
    "t=tuple(range(1,11))\n",
    "print(\"first three elements:\",t[:3])\n",
    "print(\"last three elements:\",t[-3:])\n",
    "print(\"the elements from index 2 to 5 of the tuple :\",t[2:6])"
   ]
  },
  {
   "cell_type": "code",
   "execution_count": 16,
   "id": "84a65641",
   "metadata": {},
   "outputs": [
    {
     "name": "stdout",
     "output_type": "stream",
     "text": [
      "Matrix:\n",
      "(1, 2, 3)\n",
      "(4, 5, 6)\n",
      "(7, 8, 9)\n",
      "the element at the second row and third column: 6\n"
     ]
    }
   ],
   "source": [
    "### Assignment 4: Nested Tuples\n",
    "#Create a nested tuple representing a 3x3 matrix and print the matrix. Access and print the element at the second row and third column.\n",
    "\n",
    "matrix=[\n",
    "    (1,2,3),\n",
    "    (4,5,6),\n",
    "    (7,8,9)\n",
    "]\n",
    "print(\"Matrix:\")\n",
    "for row in matrix:\n",
    "    print(row)\n",
    "\n",
    "print(\"the element at the second row and third column:\",matrix[1][2])"
   ]
  },
  {
   "cell_type": "code",
   "execution_count": 17,
   "id": "5445c7c3",
   "metadata": {},
   "outputs": [
    {
     "name": "stdout",
     "output_type": "stream",
     "text": [
      "(1, 2, 3, 4, 5, 6)\n"
     ]
    }
   ],
   "source": [
    "### Assignment 5: Tuple Concatenation\n",
    "\n",
    "#Concatenate two tuples: (1, 2, 3) and (4, 5, 6). Print the resulting tuple.\n",
    "t1=(1,2,3)\n",
    "t2=(4,5,6)\n",
    "res=t1+t2\n",
    "print(res)\n"
   ]
  },
  {
   "cell_type": "code",
   "execution_count": null,
   "id": "eaad5569",
   "metadata": {},
   "outputs": [
    {
     "name": "stdout",
     "output_type": "stream",
     "text": [
      "2\n",
      "4\n"
     ]
    }
   ],
   "source": [
    "### Assignment 6: Tuple Methods\n",
    "\n",
    "#Create a tuple with duplicate elements and count the occurrences of an element. \n",
    "# #Find the index of the first occurrence of an element in the tuple.\n",
    "\n",
    "t=(1,2,1,5,4,5,8)\n",
    "print(t.count(5))\n",
    "print(t.index(4))"
   ]
  },
  {
   "cell_type": "code",
   "execution_count": 22,
   "id": "e071a37e",
   "metadata": {},
   "outputs": [
    {
     "name": "stdout",
     "output_type": "stream",
     "text": [
      "unpacked tuple:\n",
      "1 cherry 3 Apple 5\n"
     ]
    }
   ],
   "source": [
    "### Assignment 7: Unpacking Tuples\n",
    "\n",
    "#Create a tuple with 5 elements and unpack it into 5 variables. Print the variables.\n",
    "t=(1,\"cherry\",3,\"Apple\",5)\n",
    "a,b,c,d,e=t\n",
    "print(\"unpacked tuple:\")\n",
    "print(a,b,c,d,e)\n",
    "\n"
   ]
  },
  {
   "cell_type": "code",
   "execution_count": null,
   "id": "14d4b380",
   "metadata": {},
   "outputs": [
    {
     "name": "stdout",
     "output_type": "stream",
     "text": [
      "(1, 2, 3, 4, 5)\n"
     ]
    }
   ],
   "source": [
    "### Assignment 8: Tuple Conversion\n",
    "\n",
    "#Convert a list of the first 5 positive integers to a tuple. Print the tuple.\n",
    "\n",
    "l=[1,2,3,4,5]\n",
    "print(tuple(l))\n"
   ]
  },
  {
   "cell_type": "code",
   "execution_count": 24,
   "id": "192cacc2",
   "metadata": {},
   "outputs": [
    {
     "name": "stdout",
     "output_type": "stream",
     "text": [
      "tuple of tuples: ((1, 2, 3), (4, 5, 6), (7, 8, 9))\n"
     ]
    }
   ],
   "source": [
    "### Assignment 9: Tuple of Tuples\n",
    "\n",
    "#Create a tuple containing 3 tuples, each with 3 elements. Print the tuple of tuples.\n",
    "tuple_of_tuples=(\n",
    "    (1,2,3),\n",
    "    (4,5,6),\n",
    "    (7,8,9)\n",
    ")\n",
    "print(\"tuple of tuples:\",tuple_of_tuples)\n"
   ]
  },
  {
   "cell_type": "code",
   "execution_count": 29,
   "id": "8cce5b34",
   "metadata": {},
   "outputs": [
    {
     "name": "stdout",
     "output_type": "stream",
     "text": [
      "(1, 2, 3, 4, 5, 6)\n"
     ]
    }
   ],
   "source": [
    "### Assignment 10: Tuple and List\n",
    "\n",
    "#Create a tuple with the first 5 positive integers. Convert it to a list, append the number 6, and convert it back to a tuple. \n",
    "#Print the resulting tuple.\n",
    "\n",
    "t=(1,2,3,4,5)\n",
    "lst=list(t)\n",
    "lst.append(6)\n",
    "t_updated=tuple(lst)\n",
    "print(t_updated)"
   ]
  },
  {
   "cell_type": "code",
   "execution_count": null,
   "id": "55567b51",
   "metadata": {},
   "outputs": [
    {
     "name": "stdout",
     "output_type": "stream",
     "text": [
      "char tuple: ('H', 'e', 'l', 'l', 'o')\n",
      "joined str: Hello\n"
     ]
    }
   ],
   "source": [
    "### Assignment 11: Tuple and String\n",
    "\n",
    "#Create a tuple with the characters of a string. Join the tuple elements into a single string. Print the string.\n",
    "t=\"Hello\"\n",
    "char_tuple=tuple(t)\n",
    "joined_str=''.join(char_tuple)\n",
    "print(\"char tuple:\",char_tuple)\n",
    "print(\"joined str:\",joined_str)\n"
   ]
  },
  {
   "cell_type": "code",
   "execution_count": 31,
   "id": "5b1f0979",
   "metadata": {},
   "outputs": [
    {
     "name": "stdout",
     "output_type": "stream",
     "text": [
      "{('a', 'b'): 100, ('c', 'd'): 70, ('e', 's'): 90}\n"
     ]
    }
   ],
   "source": [
    "### Assignment 12: Tuple and Dictionary\n",
    "\n",
    "#Create a dictionary with tuple keys and integer values. Print the dictionary.\n",
    "tuple_dict = {\n",
    "    ('a', 'b'): 100,\n",
    "    ('c', 'd'): 70,\n",
    "    ('e', 's'): 90\n",
    "}\n",
    "print(tuple_dict)\n",
    "\n"
   ]
  },
  {
   "cell_type": "code",
   "execution_count": null,
   "id": "7c4ed42c",
   "metadata": {},
   "outputs": [],
   "source": [
    "### Assignment 13: Nested Tuple Iteration\n",
    "\n",
    "#Create a nested tuple and iterate over the elements, printing each element.\n",
    "nested=((1,2),(3,4),(5,6))\n",
    "print(\"Elements in nested tuple:\")\n",
    "for sub in nested:\n",
    "    for item in sub:\n",
    "        print(item)"
   ]
  },
  {
   "cell_type": "code",
   "execution_count": 32,
   "id": "74fc9f2c",
   "metadata": {},
   "outputs": [
    {
     "name": "stdout",
     "output_type": "stream",
     "text": [
      "{1, 2, 3, 4}\n"
     ]
    }
   ],
   "source": [
    "### Assignment 14: Tuple and Set\n",
    "\n",
    "#Create a tuple with duplicate elements. Convert it to a set to remove duplicates and print the resulting set.\n",
    "t=(1,2,3,3,4,2)\n",
    "unique_num=set(t)\n",
    "print(unique_num)"
   ]
  },
  {
   "cell_type": "code",
   "execution_count": 1,
   "id": "7546d28d",
   "metadata": {},
   "outputs": [
    {
     "name": "stdout",
     "output_type": "stream",
     "text": [
      "Tuple: (4, 7, 1, 9, 3)\n",
      "Minimum: 1\n",
      "Maximum: 9\n",
      "Sum: 24\n"
     ]
    }
   ],
   "source": [
    "### Assignment 15: Tuple Functions\n",
    "\n",
    "#Write functions that take a tuple and return the minimum, maximum, and sum of the elements. Print the results for a sample tuple.\n",
    "\n",
    "\n",
    "def get_min(t):\n",
    "    return min(t)\n",
    "\n",
    "def get_max(t):\n",
    "    return max(t)\n",
    "\n",
    "def get_sum(t):\n",
    "    return sum(t)\n",
    "\n",
    "tuple1 = (4, 7, 1, 9, 3)\n",
    "\n",
    "print(\"Tuple:\", tuple1)\n",
    "print(\"Minimum:\", get_min(tuple1))\n",
    "print(\"Maximum:\", get_max(tuple1))\n",
    "print(\"Sum:\", get_sum(tuple1))\n",
    "\n"
   ]
  },
  {
   "cell_type": "code",
   "execution_count": null,
   "id": "e2ac9909",
   "metadata": {},
   "outputs": [],
   "source": []
  }
 ],
 "metadata": {
  "kernelspec": {
   "display_name": "Python 3",
   "language": "python",
   "name": "python3"
  },
  "language_info": {
   "codemirror_mode": {
    "name": "ipython",
    "version": 3
   },
   "file_extension": ".py",
   "mimetype": "text/x-python",
   "name": "python",
   "nbconvert_exporter": "python",
   "pygments_lexer": "ipython3",
   "version": "3.6.2"
  }
 },
 "nbformat": 4,
 "nbformat_minor": 5
}
